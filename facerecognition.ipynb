{
 "cells": [
  {
   "cell_type": "code",
   "execution_count": null,
   "metadata": {},
   "outputs": [],
   "source": [
    "from facial_emotion_recognition import EmotionRecognition\n",
    "import cv2\n",
    "er = EmotionRecognition(device='cpu')\n",
    "cam = cv2.VideoCapture(0)\n",
    "while True:\n",
    "    success,frame = cam.read()\n",
    "    frame = er.recognise_emotion(frame,return_type='BGR')\n",
    "    cv2.imshow('frame',frame)\n",
    "    key = cv2.waitKey(1)\n",
    "    if key == 27:\n",
    "        break\n",
    "cam.release()\n",
    "cv2.destroyAllWindows()"
   ]
  }
 ],
 "metadata": {
  "kernelspec": {
   "display_name": "Python 3",
   "language": "python",
   "name": "python3"
  },
  "language_info": {
   "name": "python",
   "version": "3.7.8"
  }
 },
 "nbformat": 4,
 "nbformat_minor": 2
}
