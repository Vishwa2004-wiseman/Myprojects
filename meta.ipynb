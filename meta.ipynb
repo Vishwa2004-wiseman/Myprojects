{
 "cells": [
  {
   "cell_type": "code",
   "execution_count": 1,
   "metadata": {},
   "outputs": [
    {
     "name": "stdout",
     "output_type": "stream",
     "text": [
      "pygame 2.6.0 (SDL 2.28.4, Python 3.7.8)\n",
      "Hello from the pygame community. https://www.pygame.org/contribute.html\n"
     ]
    },
    {
     "ename": "SystemExit",
     "evalue": "",
     "output_type": "error",
     "traceback": [
      "An exception has occurred, use %tb to see the full traceback.\n",
      "\u001b[1;31mSystemExit\u001b[0m\n"
     ]
    },
    {
     "name": "stderr",
     "output_type": "stream",
     "text": [
      "c:\\Users\\Asus Laptop\\AppData\\Local\\Programs\\Python\\Python37\\lib\\site-packages\\IPython\\core\\interactiveshell.py:3561: UserWarning: To exit: use 'exit', 'quit', or Ctrl-D.\n",
      "  warn(\"To exit: use 'exit', 'quit', or Ctrl-D.\", stacklevel=1)\n"
     ]
    }
   ],
   "source": [
    "import pygame\n",
    "import sys\n",
    "import random\n",
    "\n",
    "# Game Variables\n",
    "BLOCK_SIZE = 20\n",
    "WIDTH, HEIGHT = 800, 600\n",
    "RED = (255, 0, 0)\n",
    "GREEN = (0, 255, 0)\n",
    "BLACK = (0, 0, 0)\n",
    "\n",
    "class SnakeGame:\n",
    "    def __init__(self):\n",
    "        pygame.init()\n",
    "        self.display = pygame.display.set_mode((WIDTH, HEIGHT))\n",
    "        pygame.display.set_caption(\"Snake Game\")\n",
    "        self.clock = pygame.time.Clock()\n",
    "        self.reset_game()\n",
    "\n",
    "    def reset_game(self):\n",
    "        self.snake = [(200, 200), (220, 200), (240, 200)]\n",
    "        self.direction = \"RIGHT\"\n",
    "        self.apple = self.generate_apple()\n",
    "\n",
    "    def generate_apple(self):\n",
    "        while True:\n",
    "            x = random.randint(0, WIDTH - BLOCK_SIZE) // BLOCK_SIZE * BLOCK_SIZE\n",
    "            y = random.randint(0, HEIGHT - BLOCK_SIZE) // BLOCK_SIZE * BLOCK_SIZE\n",
    "            if (x, y) not in self.snake:\n",
    "                return (x, y)\n",
    "\n",
    "    def play(self):\n",
    "        while True:\n",
    "            for event in pygame.event.get():\n",
    "                if event.type == pygame.QUIT:\n",
    "                    pygame.quit()\n",
    "                    sys.exit()\n",
    "                elif event.type == pygame.KEYDOWN:\n",
    "                    if event.key == pygame.K_UP and self.direction != \"DOWN\":\n",
    "                        self.direction = \"UP\"\n",
    "                    elif event.key == pygame.K_DOWN and self.direction != \"UP\":\n",
    "                        self.direction = \"DOWN\"\n",
    "                    elif event.key == pygame.K_LEFT and self.direction != \"RIGHT\":\n",
    "                        self.direction = \"LEFT\"\n",
    "                    elif event.key == pygame.K_RIGHT and self.direction != \"LEFT\":\n",
    "                        self.direction = \"RIGHT\"\n",
    "\n",
    "            head = self.snake[-1]\n",
    "            if self.direction == \"UP\":\n",
    "                new_head = (head[0], head[1] - BLOCK_SIZE)\n",
    "            elif self.direction == \"DOWN\":\n",
    "                new_head = (head[0], head[1] + BLOCK_SIZE)\n",
    "            elif self.direction == \"LEFT\":\n",
    "                new_head = (head[0] - BLOCK_SIZE, head[1])\n",
    "            elif self.direction == \"RIGHT\":\n",
    "                new_head = (head[0] + BLOCK_SIZE, head[1])\n",
    "\n",
    "            self.snake.append(new_head)\n",
    "\n",
    "            if self.snake[-1] == self.apple:\n",
    "                self.apple = self.generate_apple()\n",
    "            else:\n",
    "                self.snake.pop(0)\n",
    "\n",
    "            if (self.snake[-1][0] < 0 or self.snake[-1][0] >= WIDTH or\n",
    "                    self.snake[-1][1] < 0 or self.snake[-1][1] >= HEIGHT or\n",
    "                    self.snake[-1] in self.snake[:-1]):\n",
    "                self.reset_game()\n",
    "\n",
    "            self.display.fill(BLACK)\n",
    "            for pos in self.snake:\n",
    "                pygame.draw.rect(self.display, GREEN, pygame.Rect(pos[0], pos[1], BLOCK_SIZE, BLOCK_SIZE))\n",
    "            pygame.draw.rect(self.display, RED, pygame.Rect(self.apple[0], self.apple[1], BLOCK_SIZE, BLOCK_SIZE))\n",
    "            pygame.display.update()\n",
    "            self.clock.tick(10)\n",
    "\n",
    "if __name__ == \"__main__\":\n",
    "    game = SnakeGame()\n",
    "    game.play()"
   ]
  }
 ],
 "metadata": {
  "kernelspec": {
   "display_name": "Python 3",
   "language": "python",
   "name": "python3"
  },
  "language_info": {
   "codemirror_mode": {
    "name": "ipython",
    "version": 3
   },
   "file_extension": ".py",
   "mimetype": "text/x-python",
   "name": "python",
   "nbconvert_exporter": "python",
   "pygments_lexer": "ipython3",
   "version": "3.7.8"
  }
 },
 "nbformat": 4,
 "nbformat_minor": 2
}
