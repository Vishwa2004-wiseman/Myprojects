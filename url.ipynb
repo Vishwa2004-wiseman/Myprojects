{
 "cells": [
  {
   "cell_type": "code",
   "execution_count": null,
   "metadata": {},
   "outputs": [],
   "source": [
    "import urllib.request #to access url\n",
    "import cv2\n",
    "import numpy as np\n",
    "import imutils\n",
    "url = 'http://192.168.1.8:8000/shot.jpg'\n",
    "while True:\n",
    "    imgPath = urllib.request.urlopen(url)\n",
    "    imgNp = np.array(bytearray(imgPath.read()),dtype=np.uint8)\n",
    "    frame = cv2.imdecode(imgNp,-1)\n",
    "    frame = imutils.resize(frame,width=450)\n",
    "    cv2.imshow(\"CameraFeed\",frame)\n",
    "    if ord('q') == cv2.waitkey(1):\n",
    "        exit(0)"
   ]
  }
 ],
 "metadata": {
  "kernelspec": {
   "display_name": "Python 3",
   "language": "python",
   "name": "python3"
  },
  "language_info": {
   "name": "python",
   "version": "3.7.8"
  }
 },
 "nbformat": 4,
 "nbformat_minor": 2
}
